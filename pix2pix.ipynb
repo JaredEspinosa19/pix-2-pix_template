{
 "cells": [
  {
   "cell_type": "code",
   "execution_count": null,
   "metadata": {},
   "outputs": [],
   "source": [
    "import tensorflow as tf\n",
    "from keras.models import load_model\n",
    "\n",
    "import os\n",
    "import pathlib\n",
    "import time\n",
    "import datetime\n",
    "\n",
    "from matplotlib import pyplot as plt\n",
    "from IPython import display\n",
    "\n",
    "import numpy as np\n",
    "\n",
    "from PIL import Image"
   ]
  },
  {
   "cell_type": "code",
   "execution_count": null,
   "metadata": {},
   "outputs": [],
   "source": [
    "# Comprobamos si hay GPUs disponibles para utilizar con TensorFlow\n",
    "print(\"Num GPUs disponibles: \", len(tf.config.list_physical_devices('GPU')))\n",
    "if tf.config.list_physical_devices('GPU'):\n",
    "    print(\"TensorFlow utilizará GPU\")  # Si hay GPU, se utiliza\n",
    "else:\n",
    "    print(\"TensorFlow utilizará CPU\")  # Si no hay GPU, se utiliza CPU\n"
   ]
  },
  {
   "cell_type": "code",
   "execution_count": 3,
   "metadata": {},
   "outputs": [],
   "source": [
    "imagenes_d = 'canny_inv_erosion_dataset'\n",
    "# dataset = f\"laplaciano/{imagenes_d}\"\n",
    "dataset = f'canny_inv_erosion_dataset'"
   ]
  },
  {
   "cell_type": "code",
   "execution_count": null,
   "metadata": {},
   "outputs": [],
   "source": [
    "sample_image = tf.io.read_file(str(f'{dataset}/train/SEM Imaging_ETD-SE_q1_x01_y01_s0004.png'))\n",
    "sample_image = tf.io.decode_jpeg(sample_image, channels=1)\n",
    "print(sample_image.shape)"
   ]
  },
  {
   "cell_type": "code",
   "execution_count": null,
   "metadata": {},
   "outputs": [],
   "source": [
    "plt.figure()\n",
    "plt.imshow(sample_image[:, :, 0], cmap='gray')  # Utiliza cmap='gray'\n",
    "plt.axis('off')  # Opcional: elimina los ejes para una mejor visualización\n",
    "plt.show()"
   ]
  },
  {
   "cell_type": "code",
   "execution_count": 6,
   "metadata": {},
   "outputs": [],
   "source": [
    "def load(image_file):\n",
    "    # Leer y decodificar la imagen como un tensor uint8 con un canal (escala de grises)\n",
    "    image = tf.io.read_file(image_file)\n",
    "    image = tf.io.decode_jpeg(image, channels=1)\n",
    "\n",
    "    # Obtener la mitad de la anchura para dividir la imagen\n",
    "    w = tf.shape(image)[1]\n",
    "    w = w // 2\n",
    "\n",
    "    # Dividir la imagen en dos partes: entrada y real\n",
    "    input_image = image[:, w:, :]  # Parte derecha\n",
    "    real_image = image[:, :w, :]   # Parte izquierda\n",
    "\n",
    "    # Convertir ambas imágenes a tensores float32\n",
    "    input_image = tf.cast(input_image, tf.float32)\n",
    "    real_image = tf.cast(real_image, tf.float32)\n",
    "\n",
    "    return input_image, real_image\n"
   ]
  },
  {
   "cell_type": "code",
   "execution_count": null,
   "metadata": {},
   "outputs": [],
   "source": [
    "inp, re = load(str(f'{dataset}/train/SEM Imaging_ETD-SE_q1_x01_y01_s0004.png'))\n",
    "# Casting to int for matplotlib to display the images\n",
    "inp = inp / 255.0\n",
    "re = re / 255.0\n",
    "\n",
    "\n",
    "# Visualizar la imagen de entrada\n",
    "plt.figure()\n",
    "plt.title(\"Input Image\")\n",
    "plt.imshow(tf.squeeze(inp), cmap='gray')  # tf.squeeze elimina la dimensión del canal\n",
    "plt.axis('off')\n",
    "\n",
    "# Visualizar la imagen real\n",
    "plt.figure()\n",
    "plt.title(\"Real Image\")\n",
    "plt.imshow(tf.squeeze(re), cmap='gray')  # tf.squeeze elimina la dimensión del canal\n",
    "plt.axis('off')\n",
    "\n",
    "plt.show()"
   ]
  },
  {
   "cell_type": "code",
   "execution_count": 8,
   "metadata": {},
   "outputs": [],
   "source": [
    "\n",
    "BUFFER_SIZE = 400\n",
    "\n",
    "BATCH_SIZE = 1\n",
    "\n",
    "IMG_WIDTH = 1024\n",
    "IMG_HEIGHT = 413"
   ]
  },
  {
   "cell_type": "code",
   "execution_count": 9,
   "metadata": {},
   "outputs": [],
   "source": [
    "def resize(input_image, real_image, height, width):\n",
    "  input_image = tf.image.resize(input_image, [height, width],\n",
    "                                method=tf.image.ResizeMethod.NEAREST_NEIGHBOR)\n",
    "  real_image = tf.image.resize(real_image, [height, width],\n",
    "                               method=tf.image.ResizeMethod.NEAREST_NEIGHBOR)\n",
    "\n",
    "  return input_image, real_image"
   ]
  },
  {
   "cell_type": "code",
   "execution_count": 10,
   "metadata": {},
   "outputs": [],
   "source": [
    "def random_crop(input_image, real_image):\n",
    "  stacked_image = tf.stack([input_image, real_image], axis=0)\n",
    "  cropped_image = tf.image.random_crop(\n",
    "      stacked_image, size=[2, IMG_HEIGHT, IMG_WIDTH, 1])\n",
    "\n",
    "  return cropped_image[0], cropped_image[1]\n"
   ]
  },
  {
   "cell_type": "code",
   "execution_count": 11,
   "metadata": {},
   "outputs": [],
   "source": [
    "# Normalizing the images to [-1, 1]\n",
    "def normalize(input_image, real_image):\n",
    "  input_image = (input_image / 127.5) - 1\n",
    "  real_image = (real_image / 127.5) - 1\n",
    "\n",
    "  return input_image, real_image"
   ]
  },
  {
   "cell_type": "code",
   "execution_count": 12,
   "metadata": {},
   "outputs": [],
   "source": [
    "@tf.function()\n",
    "def random_jitter(input_image, real_image):\n",
    "  # Resizing to 286x286\n",
    "  input_image, real_image = resize(input_image, real_image, int(IMG_HEIGHT*1.5),int(IMG_WIDTH*1.5))\n",
    "\n",
    "  # Random cropping back to 256x256\n",
    "  input_image, real_image = random_crop(input_image, real_image)\n",
    "\n",
    "  if tf.random.uniform(()) > 0.5:\n",
    "    # Random mirroring\n",
    "    input_image = tf.image.flip_left_right(input_image)\n",
    "    real_image = tf.image.flip_left_right(real_image)\n",
    "\n",
    "  return input_image, real_image"
   ]
  },
  {
   "cell_type": "code",
   "execution_count": 13,
   "metadata": {},
   "outputs": [],
   "source": [
    "def load_image_train(image_file):\n",
    "  input_image, real_image = load(image_file)\n",
    "  input_image, real_image = random_jitter(input_image, real_image)\n",
    "  input_image, real_image = normalize(input_image, real_image)\n",
    "\n",
    "  return input_image, real_image"
   ]
  },
  {
   "cell_type": "code",
   "execution_count": 14,
   "metadata": {},
   "outputs": [],
   "source": [
    "def load_image_test(image_file):\n",
    "  input_image, real_image = load(image_file)\n",
    "  input_image, real_image = resize(input_image, real_image,\n",
    "                                   IMG_HEIGHT, IMG_WIDTH)\n",
    "  input_image, real_image = normalize(input_image, real_image)\n",
    "\n",
    "  return input_image, real_image"
   ]
  },
  {
   "cell_type": "code",
   "execution_count": 15,
   "metadata": {},
   "outputs": [],
   "source": [
    "train_dataset = tf.data.Dataset.list_files(f'{dataset}/train/*.png')\n",
    "train_dataset = train_dataset.map(load_image_train,\n",
    "                                  num_parallel_calls=tf.data.AUTOTUNE)\n",
    "train_dataset = train_dataset.shuffle(BUFFER_SIZE)\n",
    "train_dataset = train_dataset.batch(BATCH_SIZE)"
   ]
  },
  {
   "cell_type": "code",
   "execution_count": 16,
   "metadata": {},
   "outputs": [],
   "source": [
    "try:\n",
    "  test_dataset = tf.data.Dataset.list_files(str(f'{dataset}/test/*.png'))\n",
    "except tf.errors.InvalidArgumentError:\n",
    "  test_dataset = tf.data.Dataset.list_files(str(f'{dataset}/test/*.png'))\n",
    "test_dataset = test_dataset.map(load_image_test)\n",
    "test_dataset = test_dataset.batch(BATCH_SIZE)"
   ]
  },
  {
   "cell_type": "code",
   "execution_count": 17,
   "metadata": {},
   "outputs": [],
   "source": [
    "OUTPUT_CHANNELS = 1"
   ]
  },
  {
   "cell_type": "code",
   "execution_count": 18,
   "metadata": {},
   "outputs": [],
   "source": [
    "def downsample(filters, size, apply_batchnorm=True):\n",
    "  initializer = tf.keras.initializers.RandomNormal(mean=0.0, stddev=0.05)\n",
    "  # initializer = tf.keras.initializers.HeNormal()\n",
    "  result = tf.keras.Sequential()\n",
    "  result.add(\n",
    "      tf.keras.layers.Conv2D(filters, size, strides=2, padding='same',\n",
    "                             kernel_initializer=initializer, use_bias=False))\n",
    "\n",
    "  if apply_batchnorm:\n",
    "    result.add(tf.keras.layers.BatchNormalization())\n",
    "\n",
    "  result.add(tf.keras.layers.LeakyReLU())\n",
    "\n",
    "  return result"
   ]
  },
  {
   "cell_type": "code",
   "execution_count": 19,
   "metadata": {},
   "outputs": [],
   "source": [
    "def upsample(filters, size=(2,2), padding='same', stride=2, apply_dropout=False):\n",
    "  initializer = tf.keras.initializers.RandomNormal(mean=0.0, stddev=0.05)\n",
    "  # initializer = tf.keras.initializers.HeNormal()\n",
    "  result = tf.keras.Sequential()\n",
    "  result.add(\n",
    "    tf.keras.layers.Conv2DTranspose(filters, size, strides=stride,\n",
    "                                    padding=padding,\n",
    "                                    kernel_initializer=initializer,\n",
    "                                    use_bias=False))\n",
    "\n",
    "  result.add(tf.keras.layers.BatchNormalization())\n",
    "\n",
    "  if apply_dropout:\n",
    "      result.add(tf.keras.layers.Dropout(0.5))\n",
    "\n",
    "  result.add(tf.keras.layers.ReLU())\n",
    "\n",
    "  return result"
   ]
  },
  {
   "cell_type": "code",
   "execution_count": 20,
   "metadata": {},
   "outputs": [],
   "source": [
    "class MyLayer(tf.keras.layers.Layer):\n",
    "    def __init__(self):\n",
    "        super(MyLayer, self).__init__()\n",
    "\n",
    "    def call(self, x, y):\n",
    "        new_size = tf.shape(y)[1:3]\n",
    "        resized_x = tf.image.resize(x, new_size, method='nearest')\n",
    "        return resized_x\n"
   ]
  },
  {
   "cell_type": "code",
   "execution_count": 21,
   "metadata": {},
   "outputs": [],
   "source": [
    "def Generator():\n",
    "    inputs = tf.keras.layers.Input(shape=[413, 1024, OUTPUT_CHANNELS])\n",
    "\n",
    "    down_stack = [\n",
    "        downsample(64, 4, apply_batchnorm=False),  # (batch_size, 512, 207, 64)\n",
    "        downsample(128, 4),  # (batch_size, 256, 104, 128)\n",
    "        downsample(256, 4),  # (batch_size, 128, 52, 256)\n",
    "        downsample(512, 4),  # (batch_size, 64, 26, 512)\n",
    "        downsample(512, 4),  # (batch_size, 32, 13, 512)\n",
    "        downsample(512, 4),  # (batch_size, 16, 7, 512)\n",
    "        downsample(512, 4),  # (batch_size, 8, 4, 512)\n",
    "        downsample(512, 4),  # (batch_size, 4, 2, 512)\n",
    "    ]\n",
    "\n",
    "    up_stack = [\n",
    "        upsample(512, 4, apply_dropout=True),  # (batch_size, 8, 4, 1024)\n",
    "        upsample(512, 4, ),  # (batch_size, 16, 7, 1024)\n",
    "        upsample(512, 4, apply_dropout=True),  # (batch_size, 32, 13, 1024)\n",
    "        upsample(512, 4),  # (batch_size, 64, 26, 1024)\n",
    "        upsample(256, 4),  # (batch_size, 128, 52, 512)\n",
    "        upsample(128, 4),  # (batch_size, 256, 104, 256)\n",
    "        upsample(64, 4),  # (batch_size, 512, 207, 128)\n",
    "    ]\n",
    "\n",
    "    initializer = tf.keras.initializers.RandomNormal(mean=0.0, stddev=0.05)\n",
    "    # initializer = tf.keras.initializers.HeNormal()\n",
    "    last = tf.keras.layers.Conv2DTranspose(OUTPUT_CHANNELS, 4,\n",
    "                                           strides=2,\n",
    "                                           padding='same',\n",
    "                                           kernel_initializer=initializer,\n",
    "                                           activation='tanh')  # (batch_size, 1024, 413, 3)\n",
    "\n",
    "    x = inputs\n",
    "\n",
    "    skips = []\n",
    "    for i, down in enumerate(down_stack):\n",
    "        x = down(x)\n",
    "        # print(f\"Down {i} shape:\", x.shape)\n",
    "        skips.append(x)\n",
    "\n",
    "    skips = reversed(skips[:-1])\n",
    "\n",
    "    for i, (up, skip) in enumerate(zip(up_stack, skips)):\n",
    "        x = up(x)\n",
    "\n",
    "\n",
    "        if x.shape != skip.shape:\n",
    "\n",
    "            x = MyLayer()(x, skip)\n",
    "\n",
    "        print(f\"Up {i} shape:\", x.shape)    # Debug print\n",
    "        print(f\"Skip {i} shape:\", skip.shape)  # Debug print\n",
    "\n",
    "        x = tf.keras.layers.Concatenate()([x, skip])\n",
    "\n",
    "    x = last(x)\n",
    "    tensor_random = tf.random.uniform([1, 413, 1024, 1], minval=0, maxval=255, dtype=tf.int32)\n",
    "    x = MyLayer()(x, tensor_random)\n",
    "\n",
    "\n",
    "    return tf.keras.Model(inputs=inputs, outputs=x)"
   ]
  },
  {
   "cell_type": "code",
   "execution_count": null,
   "metadata": {},
   "outputs": [],
   "source": [
    "generator = Generator() \n",
    "# generator.load_weights('/teamspace/studios/this_studio/laplaciano_generator_gray.h5')\n",
    "# generator.summary()"
   ]
  },
  {
   "cell_type": "code",
   "execution_count": null,
   "metadata": {},
   "outputs": [],
   "source": [
    "gen_output = generator(inp[tf.newaxis, ...], training=False)\n",
    "plt.imshow(gen_output[0, ...])"
   ]
  },
  {
   "cell_type": "code",
   "execution_count": 24,
   "metadata": {},
   "outputs": [],
   "source": [
    "LAMBDA = 100"
   ]
  },
  {
   "cell_type": "code",
   "execution_count": 25,
   "metadata": {},
   "outputs": [],
   "source": [
    "loss_object = tf.keras.losses.BinaryCrossentropy(from_logits=True)"
   ]
  },
  {
   "cell_type": "code",
   "execution_count": 26,
   "metadata": {},
   "outputs": [],
   "source": [
    "def generator_loss(disc_generated_output, gen_output, target):\n",
    "  gan_loss = loss_object(tf.ones_like(disc_generated_output), disc_generated_output)\n",
    "\n",
    "  # Mean absolute error\n",
    "  l1_loss = tf.reduce_mean(tf.abs(target - gen_output))\n",
    "\n",
    "  total_gen_loss = gan_loss + (LAMBDA * l1_loss)\n",
    "\n",
    "  return total_gen_loss, gan_loss, l1_loss"
   ]
  },
  {
   "cell_type": "code",
   "execution_count": 27,
   "metadata": {},
   "outputs": [],
   "source": [
    "def Discriminator():\n",
    "    initializer = tf.random_normal_initializer(0., 0.02)\n",
    "\n",
    "    inp = tf.keras.layers.Input(shape=[413, 1024, 1], name='input_image')\n",
    "    tar = tf.keras.layers.Input(shape=[413, 1024, 1], name='target_image')\n",
    "\n",
    "\n",
    "    x = tf.keras.layers.concatenate([inp, tar])  # (batch_size, 1024, 413, channels*2)\n",
    "\n",
    "\n",
    "    down1 = downsample(64, 4, False)(x)       # (batch_size, 512, 207, 64)\n",
    "    down2 = downsample(128, 4)(down1)         # (batch_size, 256, 104, 128)\n",
    "    down3 = downsample(256, 4)(down2)         # (batch_size, 128, 52, 256)\n",
    "    down4 = downsample(512, 4)(down3)         # (batch_size, 64, 26, 512)\n",
    "\n",
    "\n",
    "    zero_pad1 = tf.keras.layers.ZeroPadding2D()(down4)  # (batch_size, 66, 28, 512)\n",
    "    conv = tf.keras.layers.Conv2D(512, 4, strides=1,\n",
    "                                  kernel_initializer=initializer,\n",
    "                                  use_bias=False)(zero_pad1)  # (batch_size, 63, 25, 512)\n",
    "\n",
    "    batchnorm1 = tf.keras.layers.BatchNormalization()(conv)\n",
    "    leaky_relu = tf.keras.layers.LeakyReLU()(batchnorm1)\n",
    "\n",
    "    zero_pad2 = tf.keras.layers.ZeroPadding2D()(leaky_relu)  # (batch_size, 65, 27, 512)\n",
    "\n",
    "    # Capa final para obtener la salida de decisión del discriminador\n",
    "    last = tf.keras.layers.Conv2D(1, 4, strides=1,\n",
    "                                  kernel_initializer=initializer)(zero_pad2)  # (batch_size, 62, 24, 1)\n",
    "\n",
    "    return tf.keras.Model(inputs=[inp, tar], outputs=last)\n"
   ]
  },
  {
   "cell_type": "code",
   "execution_count": 28,
   "metadata": {},
   "outputs": [],
   "source": [
    "discriminator = Discriminator()\n",
    "# discriminator.load_weights('/teamspace/studios/this_studio/laplaciano_discriminator_gray.h5')\n",
    "# discriminator.summary()"
   ]
  },
  {
   "cell_type": "code",
   "execution_count": null,
   "metadata": {},
   "outputs": [],
   "source": [
    "disc_out = discriminator([inp[tf.newaxis, ...], gen_output], training=False)\n",
    "plt.imshow(disc_out[0, ..., -1], vmin=-20, vmax=20, cmap='RdBu_r')\n",
    "plt.colorbar()"
   ]
  },
  {
   "cell_type": "code",
   "execution_count": 30,
   "metadata": {},
   "outputs": [],
   "source": [
    "def discriminator_loss(disc_real_output, disc_generated_output):\n",
    "  real_loss = loss_object(tf.ones_like(disc_real_output), disc_real_output)\n",
    "\n",
    "  generated_loss = loss_object(tf.zeros_like(disc_generated_output), disc_generated_output)\n",
    "\n",
    "  total_disc_loss = real_loss + generated_loss\n",
    "\n",
    "  return total_disc_loss"
   ]
  },
  {
   "cell_type": "code",
   "execution_count": 31,
   "metadata": {},
   "outputs": [],
   "source": [
    "generator_optimizer = tf.keras.optimizers.Adam(2e-4, beta_1=0.5)\n",
    "discriminator_optimizer = tf.keras.optimizers.Adam(2e-4, beta_1=0.5)"
   ]
  },
  {
   "cell_type": "code",
   "execution_count": 32,
   "metadata": {},
   "outputs": [],
   "source": [
    "checkpoint_dir = './training_checkpoints'\n",
    "checkpoint_prefix = os.path.join(checkpoint_dir, \"ckpt\")\n",
    "checkpoint = tf.train.Checkpoint(generator_optimizer=generator_optimizer,\n",
    "                                 discriminator_optimizer=discriminator_optimizer,\n",
    "                                 generator=generator,\n",
    "                                 discriminator=discriminator)"
   ]
  },
  {
   "cell_type": "code",
   "execution_count": 33,
   "metadata": {},
   "outputs": [],
   "source": [
    "def save_prediction(prediction, dataset_name, filename='prediction.png'):\n",
    "    \"\"\"\n",
    "    Guarda una predicción como imagen en escala de grises con dimensiones exactas.\n",
    "    \n",
    "    Parameters:\n",
    "        prediction (tf.Tensor or np.ndarray): Tensor de predicción con dimensiones (1, H, W, 1).\n",
    "        filename (str): Nombre del archivo de salida.\n",
    "    \"\"\"\n",
    "    # Convertir a numpy si es un tensor de TensorFlow\n",
    "    if isinstance(prediction, tf.Tensor):\n",
    "        prediction = prediction.numpy()\n",
    "    \n",
    "    # Eliminar dimensiones adicionales (1, H, W, 1) -> (H, W)\n",
    "    if prediction.ndim == 4 and prediction.shape[0] == 1:\n",
    "        prediction = np.squeeze(prediction, axis=(0, -1))  # (H, W)\n",
    "    elif prediction.ndim != 2:\n",
    "        raise ValueError(\"Las dimensiones de entrada deben ser (1, H, W, 1) o (H, W).\")\n",
    "    \n",
    "    # Escalar valores a [0, 1] si están en el rango [-1, 1]\n",
    "    if prediction.min() < 0 or prediction.max() > 1:\n",
    "        prediction = (prediction + 1) / 2.0  # Escalado de [-1, 1] a [0, 1]\n",
    "\n",
    "    # Clip valores para garantizar que estén dentro de [0, 1]\n",
    "    prediction = np.clip(prediction, 0, 1)\n",
    "\n",
    "    # Convertir a escala de 0-255 para guardar como imagen\n",
    "    prediction = (prediction * 255).astype(np.uint8)\n",
    "\n",
    "    # Guardar la imagen usando PIL para conservar dimensiones\n",
    "    img = Image.fromarray(prediction, mode='L')  # Escala de grises\n",
    "    img.save(f'resultados/{dataset_name}/{filename}')\n",
    "    print(f'Imagen {filename} guardada')"
   ]
  },
  {
   "cell_type": "code",
   "execution_count": 34,
   "metadata": {},
   "outputs": [],
   "source": [
    "def generate_images(model, test_input, tar, epoch=0, name='',dataset_name='', final=False):\n",
    "  prediction = model(test_input, training=True)\n",
    "  \n",
    "  display_list = [test_input[0], tar[0], prediction[0]]\n",
    "  title = ['Input Image', 'Ground Truth', 'Predicted Image']\n",
    "\n",
    "  plt.figure(figsize=(15,6))\n",
    "\n",
    "  # for i in range(3):\n",
    "  #   plt.subplot(1, 3, i+1)\n",
    "  #   plt.title(title[i])\n",
    "  #   # Getting the pixel values in the [0, 1] range to plot.\n",
    "  #   plt.imshow(display_list[i] * 0.5 + 0.5, cmap='gray')\n",
    "  #   plt.axis('off')\n",
    "\n",
    "\n",
    "  # if epoch % 5000 == 0:\n",
    "  #   plt.savefig(f'{imagenes_d}_imagenes/epoch_{epoch}.jpg')\n",
    "  #   plt.show()\n",
    "\n",
    "  if final:\n",
    "    save_prediction(prediction,dataset_name, name)"
   ]
  },
  {
   "cell_type": "code",
   "execution_count": 35,
   "metadata": {},
   "outputs": [],
   "source": [
    "# for example_input, example_target in test_dataset.take(1):\n",
    "#   print(example_input.shape)\n",
    "#   # generate_images(generator, example_input, example_target)"
   ]
  },
  {
   "cell_type": "code",
   "execution_count": 36,
   "metadata": {},
   "outputs": [],
   "source": [
    "log_dir=\"logs/\"\n",
    "\n",
    "summary_writer = tf.summary.create_file_writer(\n",
    "  log_dir + \"fit/\" + datetime.datetime.now().strftime(\"%Y%m%d-%H%M%S\"))"
   ]
  },
  {
   "cell_type": "code",
   "execution_count": 37,
   "metadata": {},
   "outputs": [],
   "source": [
    "@tf.function\n",
    "def train_step(input_image, target, step):\n",
    "  with tf.GradientTape() as gen_tape, tf.GradientTape() as disc_tape:\n",
    "    gen_output = generator(input_image, training=True)\n",
    "\n",
    "    disc_real_output = discriminator([input_image, target], training=True)\n",
    "    disc_generated_output = discriminator([input_image, gen_output], training=True)\n",
    "\n",
    "    gen_total_loss, gen_gan_loss, gen_l1_loss = generator_loss(disc_generated_output, gen_output, target)\n",
    "    disc_loss = discriminator_loss(disc_real_output, disc_generated_output)\n",
    "\n",
    "  generator_gradients = gen_tape.gradient(gen_total_loss,\n",
    "                                          generator.trainable_variables)\n",
    "  discriminator_gradients = disc_tape.gradient(disc_loss,\n",
    "                                               discriminator.trainable_variables)\n",
    "\n",
    "  generator_optimizer.apply_gradients(zip(generator_gradients,\n",
    "                                          generator.trainable_variables))\n",
    "  discriminator_optimizer.apply_gradients(zip(discriminator_gradients,\n",
    "                                              discriminator.trainable_variables))\n",
    "\n",
    "  with summary_writer.as_default():\n",
    "    tf.summary.scalar('gen_total_loss', gen_total_loss, step=step//1000)\n",
    "    tf.summary.scalar('gen_gan_loss', gen_gan_loss, step=step//1000)\n",
    "    tf.summary.scalar('gen_l1_loss', gen_l1_loss, step=step//1000)\n",
    "    tf.summary.scalar('disc_loss', disc_loss, step=step//1000)"
   ]
  },
  {
   "cell_type": "code",
   "execution_count": 38,
   "metadata": {},
   "outputs": [],
   "source": [
    "def fit(train_ds, test_ds, steps):\n",
    "  example_input, example_target = next(iter(test_ds.take(1)))\n",
    "  start = time.time()\n",
    "\n",
    "  for step, (input_image, target) in train_ds.repeat().take(steps).enumerate():\n",
    "    if (step) % 1000 == 0:\n",
    "      display.clear_output(wait=True)\n",
    "\n",
    "      if step != 0:\n",
    "        print(f'Time taken for 1000 steps: {time.time()-start:.2f} sec\\n')\n",
    "\n",
    "      start = time.time()\n",
    "\n",
    "      generate_images(generator, example_input, example_target, step)\n",
    "      print(f\"Step: {step//1000}k\")\n",
    "\n",
    "    train_step(input_image, target, step)\n",
    "\n",
    "    # Training step\n",
    "    if (step+1) % 10 == 0:\n",
    "      print('.', end='', flush=True)\n",
    "\n",
    "\n",
    "    # Save (checkpoint) the model every 5k steps\n",
    "    if (step + 1) % 5000 == 0:\n",
    "      checkpoint.save(file_prefix=checkpoint_prefix)"
   ]
  },
  {
   "cell_type": "code",
   "execution_count": 39,
   "metadata": {},
   "outputs": [],
   "source": [
    "def getMetrics(dataset_path, model):\n",
    "    global_psnr = 0\n",
    "    global_ssim = 0\n",
    "    index = 0\n",
    "\n",
    "    aux_psnr = 0\n",
    "    aux_ssim = 0\n",
    "\n",
    "    files_list = []\n",
    "    psnr_list = []\n",
    "    ssim_list = []\n",
    "\n",
    "    files = os.listdir(f'{dataset_path}/test')\n",
    "    \n",
    "    # print(files)\n",
    "    \n",
    "    for image in files:\n",
    "        print(image)\n",
    "        example_input, example_target = load_image_test(f'{dataset_path}/test/{image}')\n",
    "        \n",
    "        example_input= tf.expand_dims(inp, axis=0)\n",
    "        example_target = tf.expand_dims(re, axis=0)\n",
    "\n",
    "        aux_psnr, aux_ssim = generate_image_metrics(model, example_input, example_target, image)\n",
    "\n",
    "        global_psnr+= aux_psnr\n",
    "        global_ssim+= aux_ssim\n",
    "        \n",
    "        files_list.append(files)\n",
    "        ssim_list.append(aux_ssim)\n",
    "        psnr_list.append(aux_psnr)\n",
    "\n",
    "        index +=1\n",
    "        print(index)\n",
    "    \n",
    "    global_psnr = global_psnr / index\n",
    "    global_ssim = global_ssim / index\n",
    "    # return global_psnr, global_ssim  # Devuelve las métricas acumuladas\n",
    "\n",
    "    print(f'PSNR Global: {global_psnr} || SSIM Global {global_ssim}')    \n",
    "\n",
    "    with open(f'{dataset_path}_metrics_values.txt', 'w') as file:\n",
    "        for image, psnr, ssim in zip(files_list, psnr_list, ssim_list):\n",
    "            file.write(f\"{image}\\t{psnr}\\t{ssim}\\n\")\n",
    "    \n",
    "    # while True:\n",
    "    #     try:\n",
    "    #         element = next(iterator)\n",
    "    #         example_input, example_target = element\n",
    "    #         # Aquí puedes agregar el cálculo de métricas usando element\n",
    "    #         aux_psnr, aux_ssim = generate_image_metrics(model, example_input, example_target)\n",
    "\n",
    "    #         global_psnr+= aux_psnr\n",
    "    #         global_ssim+= aux_ssim\n",
    "\n",
    "    #         index +=1\n",
    "    #         print(index)\n",
    "    #     except StopIteration:\n",
    "    #         break  # Sale del bucle cuando se acaban los elementos\n",
    "        \n",
    "    # global_psnr = global_psnr / index\n",
    "    # global_ssim = global_ssim / index\n",
    "    # # return global_psnr, global_ssim  # Devuelve las métricas acumuladas\n",
    "\n",
    "    # print(f'PSNR Global: {global_psnr} || SSIM Global {global_ssim}')\n",
    "\n",
    "def generate_image_metrics(generator, test_input, tar, file_name):\n",
    "    # Generar la predicción\n",
    "    prediction = generator(test_input, training=True)\n",
    "\n",
    "    display_list = [test_input[0], tar[0], prediction[0]]\n",
    "    title = ['Input Image', 'Ground Truth', 'Predicted Image']\n",
    "\n",
    "    plt.figure(figsize=(15,6))\n",
    "\n",
    "    for i in range(3):\n",
    "        plt.subplot(1, 3, i+1)\n",
    "        plt.title(title[i])\n",
    "        # Getting the pixel values in the [0, 1] range to plot.\n",
    "        plt.imshow(display_list[i] * 0.5 + 0.5, cmap='gray')\n",
    "        plt.title(file_name)\n",
    "        plt.axis('off')\n",
    "\n",
    "    # Convertir tensores de TF a numpy arrays\n",
    "    tar = tar.numpy()\n",
    "    prediction = prediction.numpy()\n",
    "    \n",
    "    # Escalar de [-1, 1] a [0, 255] y convertir a uint8\n",
    "    tar = ((tar + 1) * 127.5).astype(np.uint8)\n",
    "    prediction = ((prediction + 1) * 127.5).astype(np.uint8)\n",
    "\n",
    "    # Si la imagen tiene un canal extra (ej. forma (H, W, 1)), se elimina para obtener (H, W)\n",
    "    if tar.ndim == 3 and tar.shape[-1] == 1:\n",
    "        tar = np.squeeze(tar, axis=-1)\n",
    "    if prediction.ndim == 3 and prediction.shape[-1] == 1:\n",
    "        prediction = np.squeeze(prediction, axis=-1)\n",
    "\n",
    "    # Convertir a tensores de tipo float32 para TensorFlow\n",
    "    tar_tensor = tf.convert_to_tensor(tar, dtype=tf.float32)\n",
    "    pred_tensor = tf.convert_to_tensor(prediction, dtype=tf.float32)\n",
    "\n",
    "    # Calcular PSNR y SSIM usando las funciones de TensorFlow\n",
    "    psnr_value = tf.image.psnr(tar_tensor, pred_tensor, max_val=255).numpy()\n",
    "    ssim_value = tf.image.ssim(tar_tensor, pred_tensor, max_val=255).numpy()\n",
    "\n",
    "    return psnr_value, ssim_value"
   ]
  },
  {
   "cell_type": "code",
   "execution_count": null,
   "metadata": {},
   "outputs": [],
   "source": [
    "steps = 500000"
   ]
  },
  {
   "cell_type": "code",
   "execution_count": null,
   "metadata": {},
   "outputs": [],
   "source": [
    "fit(train_dataset, test_dataset, steps=steps) "
   ]
  },
  {
   "cell_type": "code",
   "execution_count": null,
   "metadata": {},
   "outputs": [],
   "source": [
    "generator.save(f'{imagenes_d}_generator_gray_Normail_weights_{steps}.keras')\n",
    "discriminator.save(f'{imagenes_d}_discriminator_gray_Normal_weights_{steps}.keras')"
   ]
  },
  {
   "cell_type": "markdown",
   "metadata": {},
   "source": [
    "## Cargar modelos\n",
    "\n",
    "### Canny"
   ]
  },
  {
   "cell_type": "code",
   "execution_count": null,
   "metadata": {},
   "outputs": [],
   "source": [
    "canny_model = Generator()\n",
    "canny_model.load_weights(f'canny_generator_gray.h5')"
   ]
  },
  {
   "cell_type": "code",
   "execution_count": 44,
   "metadata": {},
   "outputs": [],
   "source": [
    "canny_test_images = os.listdir('canny/test')"
   ]
  },
  {
   "cell_type": "code",
   "execution_count": null,
   "metadata": {},
   "outputs": [],
   "source": [
    "for image in canny_test_images:\n",
    "    inp, re = load_image_test(f'canny/test/{image}')\n",
    "\n",
    "    inp = tf.expand_dims(inp, axis=0)\n",
    "    \n",
    "    re = tf.expand_dims(re, axis=0)\n",
    "\n",
    "    generate_images(canny_model, inp, re, 1000,f'{image}', dataset_name='canny', final=True)"
   ]
  },
  {
   "cell_type": "markdown",
   "metadata": {},
   "source": [
    "## Canny_inverso"
   ]
  },
  {
   "cell_type": "code",
   "execution_count": null,
   "metadata": {},
   "outputs": [],
   "source": [
    "canny_inv_model = Generator()\n",
    "canny_inv_model.load_weights(f'')"
   ]
  },
  {
   "cell_type": "code",
   "execution_count": null,
   "metadata": {},
   "outputs": [],
   "source": [
    "canny_inv_test_images = os.listdir('canny_inv_dataset/test')"
   ]
  },
  {
   "cell_type": "code",
   "execution_count": null,
   "metadata": {},
   "outputs": [],
   "source": [
    "for image in canny_inv_test_images:\n",
    "    inp, re = load_image_test(f'canny_inv_dataset/test/{image}')\n",
    "\n",
    "    inp = tf.expand_dims(inp, axis=0)\n",
    "    \n",
    "    re = tf.expand_dims(re, axis=0)\n",
    "\n",
    "    generate_images(canny_inv_test_images, inp, re, 1000,f'{image}', dataset_name='canny_inv', final=True)"
   ]
  },
  {
   "cell_type": "markdown",
   "metadata": {},
   "source": [
    "### Canny Inverso Erosion"
   ]
  },
  {
   "cell_type": "code",
   "execution_count": null,
   "metadata": {},
   "outputs": [],
   "source": [
    "canny_inv_erosion_model = Generator()\n",
    "canny_inv_erosion_model.load_weights(f'')"
   ]
  },
  {
   "cell_type": "code",
   "execution_count": null,
   "metadata": {},
   "outputs": [],
   "source": [
    "canny_inv_erosion_test_images = os.listdir('canny_inv_erosion_dataset/test')"
   ]
  },
  {
   "cell_type": "code",
   "execution_count": null,
   "metadata": {},
   "outputs": [],
   "source": [
    "for image in canny_inv_erosion_test_images:\n",
    "    inp, re = load_image_test(f'canny_inv_erosion_dataset/test/{image}')\n",
    "\n",
    "    inp = tf.expand_dims(inp, axis=0)\n",
    "    \n",
    "    re = tf.expand_dims(re, axis=0)\n",
    "\n",
    "    generate_images(canny_inv_erosion_model, inp, re, 1000,f'{image}', dataset_name='canny_inv_erosion', final=True)"
   ]
  },
  {
   "cell_type": "markdown",
   "metadata": {},
   "source": [
    "### Laplaciano"
   ]
  },
  {
   "cell_type": "code",
   "execution_count": null,
   "metadata": {},
   "outputs": [],
   "source": [
    "laplaciano_model = Generator()\n",
    "laplaciano_model.load_weights(f'laplaciano_generator_gray.h5')"
   ]
  },
  {
   "cell_type": "code",
   "execution_count": 43,
   "metadata": {},
   "outputs": [],
   "source": [
    "laplaciano_test_images = os.listdir('laplaciano/test')"
   ]
  },
  {
   "cell_type": "code",
   "execution_count": null,
   "metadata": {},
   "outputs": [],
   "source": [
    "for image in laplaciano_test_images:\n",
    "    inp, re = load_image_test(f'laplaciano/test/{image}')\n",
    "\n",
    "    inp = tf.expand_dims(inp, axis=0)\n",
    "    \n",
    "    re = tf.expand_dims(re, axis=0)\n",
    "\n",
    "    generate_images(laplaciano_model, inp, re, 1000,f'{image}', dataset_name='laplaciano', final=True)\n"
   ]
  },
  {
   "cell_type": "markdown",
   "metadata": {},
   "source": [
    "### Laplaciano Inverso"
   ]
  },
  {
   "cell_type": "code",
   "execution_count": null,
   "metadata": {},
   "outputs": [],
   "source": [
    "laplaciano_inv_model = Generator()\n",
    "laplaciano_inv_model.load_weights(f'laplaciano_inv_generator_gray.h5')"
   ]
  },
  {
   "cell_type": "code",
   "execution_count": null,
   "metadata": {},
   "outputs": [],
   "source": [
    "laplaciano_inv_test_images = os.listdir('laplaciano_inv/test')"
   ]
  },
  {
   "cell_type": "code",
   "execution_count": null,
   "metadata": {},
   "outputs": [],
   "source": [
    "for image in laplaciano_inv_test_images:\n",
    "    inp, re = load_image_test(f'laplaciano_inv/test/{image}')\n",
    "\n",
    "    inp = tf.expand_dims(inp, axis=0)\n",
    "    \n",
    "    re = tf.expand_dims(re, axis=0)\n",
    "\n",
    "    generate_images(laplaciano_inv_model, inp, re, 1000,f'{image}', dataset_name='laplaciano_inv', final=True)"
   ]
  },
  {
   "cell_type": "markdown",
   "metadata": {},
   "source": [
    "### Laplaciano Inverso Erosion"
   ]
  },
  {
   "cell_type": "code",
   "execution_count": null,
   "metadata": {},
   "outputs": [],
   "source": [
    "erosion_model = Generator()\n",
    "erosion_model.load_weights(f'erosion_dilatacion_generator_gray.h5')"
   ]
  },
  {
   "cell_type": "code",
   "execution_count": 51,
   "metadata": {},
   "outputs": [],
   "source": [
    "erosion_dilatacion_test_images = os.listdir('erosion_dilatacion/test')"
   ]
  },
  {
   "cell_type": "code",
   "execution_count": null,
   "metadata": {},
   "outputs": [],
   "source": [
    "for image in erosion_dilatacion_test_images:\n",
    "    inp, re = load_image_test(f'erosion_dilatacion/test/{image}')\n",
    "\n",
    "    inp = tf.expand_dims(inp, axis=0)\n",
    "    \n",
    "    re = tf.expand_dims(re, axis=0)\n",
    "\n",
    "    generate_images(erosion_model, inp, re, 1000,f'{image}', dataset_name='laplaciano_inv_erosion', final=True)\n"
   ]
  }
 ],
 "metadata": {
  "language_info": {
   "name": "python"
  }
 },
 "nbformat": 4,
 "nbformat_minor": 2
}
